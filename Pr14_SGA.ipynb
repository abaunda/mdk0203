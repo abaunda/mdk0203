{
 "cells": [
  {
   "cell_type": "markdown",
   "id": "762203bb-8233-4ebd-870c-7344788b725a",
   "metadata": {},
   "source": [
    "Физические константы и специальные функции"
   ]
  },
  {
   "cell_type": "code",
   "execution_count": 1,
   "id": "eacd06c4-c477-4363-8f7e-22e40ba6273a",
   "metadata": {},
   "outputs": [
    {
     "name": "stdout",
     "output_type": "stream",
     "text": [
      "239.41063200000002\n"
     ]
    }
   ],
   "source": [
    "def get_wv(D0):\n",
    "    h = 6.626e-34\n",
    "    c = 3.0e8\n",
    "    N_A = 6.022e23\n",
    "    \n",
    "    E_molecule = (D0 * 1e3) / N_A\n",
    "    lambda_wave = h * c / E_molecule\n",
    "    lambda_wave_nm = lambda_wave * 1e9\n",
    "    return lambda_wave_nm\n",
    "\n",
    "print(get_wv(500))\n",
    "    "
   ]
  },
  {
   "cell_type": "code",
   "execution_count": null,
   "id": "74e9d778-337c-425b-93f6-a944c95f30fe",
   "metadata": {},
   "outputs": [],
   "source": []
  }
 ],
 "metadata": {
  "kernelspec": {
   "display_name": "Python 3 (ipykernel)",
   "language": "python",
   "name": "python3"
  },
  "language_info": {
   "codemirror_mode": {
    "name": "ipython",
    "version": 3
   },
   "file_extension": ".py",
   "mimetype": "text/x-python",
   "name": "python",
   "nbconvert_exporter": "python",
   "pygments_lexer": "ipython3",
   "version": "3.12.7"
  }
 },
 "nbformat": 4,
 "nbformat_minor": 5
}
