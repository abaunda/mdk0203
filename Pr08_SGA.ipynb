{
 "cells": [
  {
   "cell_type": "markdown",
   "id": "d111368e-6f53-4caf-a389-a298b85d0056",
   "metadata": {},
   "source": [
    "Дискретные преобразования Фурье"
   ]
  },
  {
   "cell_type": "markdown",
   "id": "3d9a3a7c-fb79-4e27-adee-01ac061f4e4c",
   "metadata": {},
   "source": [
    "Практическая работа №8"
   ]
  },
  {
   "cell_type": "markdown",
   "id": "6f59e641-cc5c-456c-9134-798088aa4bd9",
   "metadata": {},
   "source": [
    "В1"
   ]
  },
  {
   "cell_type": "code",
   "execution_count": null,
   "id": "15942eb9-eca8-462b-942b-c5c90e6e8b1f",
   "metadata": {},
   "outputs": [],
   "source": [
    "import numpy as np\n",
    "n = 512\n",
    "f = np.random.rand(n)\n",
    "\n",
    "%timeit np.fft.fft(f)\n",
    "\n",
    "k = np.arange(n)\n",
    "m = k.reshape((n,1))\n",
    "w = np.exp(-2j * np.pi * m * k / n)\n",
    "%timeit np.dot(w,f)\n",
    "\n",
    "ftfast = np.fft.fft(f)\n",
    "ftslow = np.dot(w,f)\n",
    "np.allclose(ftfast, ftslow)"
   ]
  }
 ],
 "metadata": {
  "kernelspec": {
   "display_name": "Python 3 (ipykernel)",
   "language": "python",
   "name": "python3"
  },
  "language_info": {
   "codemirror_mode": {
    "name": "ipython",
    "version": 3
   },
   "file_extension": ".py",
   "mimetype": "text/x-python",
   "name": "python",
   "nbconvert_exporter": "python",
   "pygments_lexer": "ipython3",
   "version": "3.12.7"
  }
 },
 "nbformat": 4,
 "nbformat_minor": 5
}
