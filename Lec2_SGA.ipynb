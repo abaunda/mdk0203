{
 "cells": [
  {
   "cell_type": "markdown",
   "id": "c4c50b56-c867-4597-80a0-cb7c9d023ab2",
   "metadata": {},
   "source": [
    "Лекция №2"
   ]
  },
  {
   "cell_type": "markdown",
   "id": "ed045edc-6f10-488b-9ce8-5487d4a9a98e",
   "metadata": {},
   "source": [
    "Задача 1"
   ]
  },
  {
   "cell_type": "code",
   "execution_count": 1,
   "id": "06bfb4fa-adae-4bcf-b121-cce946c7f7a8",
   "metadata": {},
   "outputs": [
    {
     "ename": "FileNotFoundError",
     "evalue": "[Errno 2] No such file or directory: 'swallow-speeds.txt'",
     "output_type": "error",
     "traceback": [
      "\u001b[1;31m---------------------------------------------------------------------------\u001b[0m",
      "\u001b[1;31mFileNotFoundError\u001b[0m                         Traceback (most recent call last)",
      "Cell \u001b[1;32mIn[1], line 1\u001b[0m\n\u001b[1;32m----> 1\u001b[0m f \u001b[38;5;241m=\u001b[39m \u001b[38;5;28mopen\u001b[39m(\u001b[38;5;124m'\u001b[39m\u001b[38;5;124mswallow-speeds.txt\u001b[39m\u001b[38;5;124m'\u001b[39m, \u001b[38;5;124m'\u001b[39m\u001b[38;5;124mr\u001b[39m\u001b[38;5;124m'\u001b[39m)\n\u001b[0;32m      2\u001b[0m speeds \u001b[38;5;241m=\u001b[39m []\n\u001b[0;32m      3\u001b[0m \u001b[38;5;28;01mfor\u001b[39;00m line \u001b[38;5;129;01min\u001b[39;00m f\u001b[38;5;241m.\u001b[39mreadlines():\n",
      "File \u001b[1;32mD:\\jupiter\\Lib\\site-packages\\IPython\\core\\interactiveshell.py:324\u001b[0m, in \u001b[0;36m_modified_open\u001b[1;34m(file, *args, **kwargs)\u001b[0m\n\u001b[0;32m    317\u001b[0m \u001b[38;5;28;01mif\u001b[39;00m file \u001b[38;5;129;01min\u001b[39;00m {\u001b[38;5;241m0\u001b[39m, \u001b[38;5;241m1\u001b[39m, \u001b[38;5;241m2\u001b[39m}:\n\u001b[0;32m    318\u001b[0m     \u001b[38;5;28;01mraise\u001b[39;00m \u001b[38;5;167;01mValueError\u001b[39;00m(\n\u001b[0;32m    319\u001b[0m         \u001b[38;5;124mf\u001b[39m\u001b[38;5;124m\"\u001b[39m\u001b[38;5;124mIPython won\u001b[39m\u001b[38;5;124m'\u001b[39m\u001b[38;5;124mt let you open fd=\u001b[39m\u001b[38;5;132;01m{\u001b[39;00mfile\u001b[38;5;132;01m}\u001b[39;00m\u001b[38;5;124m by default \u001b[39m\u001b[38;5;124m\"\u001b[39m\n\u001b[0;32m    320\u001b[0m         \u001b[38;5;124m\"\u001b[39m\u001b[38;5;124mas it is likely to crash IPython. If you know what you are doing, \u001b[39m\u001b[38;5;124m\"\u001b[39m\n\u001b[0;32m    321\u001b[0m         \u001b[38;5;124m\"\u001b[39m\u001b[38;5;124myou can use builtins\u001b[39m\u001b[38;5;124m'\u001b[39m\u001b[38;5;124m open.\u001b[39m\u001b[38;5;124m\"\u001b[39m\n\u001b[0;32m    322\u001b[0m     )\n\u001b[1;32m--> 324\u001b[0m \u001b[38;5;28;01mreturn\u001b[39;00m io_open(file, \u001b[38;5;241m*\u001b[39margs, \u001b[38;5;241m*\u001b[39m\u001b[38;5;241m*\u001b[39mkwargs)\n",
      "\u001b[1;31mFileNotFoundError\u001b[0m: [Errno 2] No such file or directory: 'swallow-speeds.txt'"
     ]
    }
   ],
   "source": [
    "f = open('swallow-speeds.txt', 'r')\n",
    "speeds = []\n",
    "for line in f.readlines():\n",
    "    try:\n",
    "        speeds.append(float(line))\n",
    "    except (ValueError):\n",
    "        pass\n",
    "f.close()\n",
    "\n",
    "average_speed = sum(speeds)/len(speeds)\n",
    "print('The AVG speed of an unladen swallow is {:.1f} m/s' .format(average_speed))"
   ]
  },
  {
   "cell_type": "markdown",
   "id": "f0096f09-6155-45b3-b5d8-9b80c120ff4e",
   "metadata": {},
   "source": [
    "Задача 2"
   ]
  },
  {
   "cell_type": "code",
   "execution_count": 2,
   "id": "c42e8469-37ce-49ea-b3b0-43aa629e6d3d",
   "metadata": {},
   "outputs": [
    {
     "ename": "TypeError",
     "evalue": "argument to str_vector() must be a list or tuple",
     "output_type": "error",
     "traceback": [
      "\u001b[1;31m---------------------------------------------------------------------------\u001b[0m",
      "\u001b[1;31mTypeError\u001b[0m                                 Traceback (most recent call last)",
      "Cell \u001b[1;32mIn[2], line 18\u001b[0m\n\u001b[0;32m     16\u001b[0m str_vector((\u001b[38;5;241m4\u001b[39m,\u001b[38;5;241m0.5\u001b[39m,\u001b[38;5;241m-\u001b[39m\u001b[38;5;241m2\u001b[39m))\n\u001b[0;32m     17\u001b[0m str_vector((\u001b[38;5;241m-\u001b[39m\u001b[38;5;241m2\u001b[39m,\u001b[38;5;241m3.5\u001b[39m))\n\u001b[1;32m---> 18\u001b[0m str_vector((\u001b[38;5;124m'\u001b[39m\u001b[38;5;124merunda\u001b[39m\u001b[38;5;124m'\u001b[39m))\n",
      "Cell \u001b[1;32mIn[2], line 3\u001b[0m, in \u001b[0;36mstr_vector\u001b[1;34m(v)\u001b[0m\n\u001b[0;32m      1\u001b[0m \u001b[38;5;28;01mdef\u001b[39;00m \u001b[38;5;21mstr_vector\u001b[39m(v):\n\u001b[0;32m      2\u001b[0m     \u001b[38;5;28;01mif\u001b[39;00m \u001b[38;5;28mtype\u001b[39m(v) \u001b[38;5;129;01mis\u001b[39;00m \u001b[38;5;129;01mnot\u001b[39;00m \u001b[38;5;28mlist\u001b[39m \u001b[38;5;129;01mand\u001b[39;00m \u001b[38;5;28mtype\u001b[39m(v) \u001b[38;5;129;01mis\u001b[39;00m \u001b[38;5;129;01mnot\u001b[39;00m \u001b[38;5;28mtuple\u001b[39m:\n\u001b[1;32m----> 3\u001b[0m         \u001b[38;5;28;01mraise\u001b[39;00m \u001b[38;5;167;01mTypeError\u001b[39;00m(\u001b[38;5;124m'\u001b[39m\u001b[38;5;124margument to str_vector() must be a list or tuple\u001b[39m\u001b[38;5;124m'\u001b[39m)\n\u001b[0;32m      4\u001b[0m     \u001b[38;5;28;01mif\u001b[39;00m \u001b[38;5;28mlen\u001b[39m(v) \u001b[38;5;129;01mnot\u001b[39;00m \u001b[38;5;129;01min\u001b[39;00m (\u001b[38;5;241m2\u001b[39m,\u001b[38;5;241m3\u001b[39m):\n\u001b[0;32m      5\u001b[0m         \u001b[38;5;28;01mraise\u001b[39;00m \u001b[38;5;167;01mValueError\u001b[39;00m(\u001b[38;5;124m'\u001b[39m\u001b[38;5;124mvector must be 2D or 3D in str_vector()\u001b[39m\u001b[38;5;124m'\u001b[39m)\n",
      "\u001b[1;31mTypeError\u001b[0m: argument to str_vector() must be a list or tuple"
     ]
    }
   ],
   "source": [
    "def str_vector(v):\n",
    "    if type(v) is not list and type(v) is not tuple:\n",
    "        raise TypeError('argument to str_vector() must be a list or tuple')\n",
    "    if len(v) not in (2,3):\n",
    "        raise ValueError('vector must be 2D or 3D in str_vector()')\n",
    "    unit_vectors = ['i','j','k']\n",
    "    s = []\n",
    "    for i, component in enumerate(v):\n",
    "        try:\n",
    "            s.append('{:s}{:1s}'.format(str(float(component)), unit_vectors[i]))\n",
    "        except(TypeError,ValueError):\n",
    "            raise ValueError('Invalid element in vector {}: {} is'\n",
    "                            ' not a real number'.format(v,component))\n",
    "        return ' + '.join(s).replace('+ -', '- ')\n",
    "\n",
    "str_vector((4,0.5,-2))\n",
    "str_vector((-2,3.5))\n",
    "str_vector(('erunda'))"
   ]
  },
  {
   "cell_type": "markdown",
   "id": "a1b4ec40-9f9d-40bc-b581-38f28ed9f8ba",
   "metadata": {},
   "source": [
    "Задача 3"
   ]
  },
  {
   "cell_type": "code",
   "execution_count": 3,
   "id": "cb356066-ab7b-44e8-8c81-0aba8899a8a3",
   "metadata": {},
   "outputs": [
    {
     "ename": "ValueError",
     "evalue": "Zero to the power zero",
     "output_type": "error",
     "traceback": [
      "\u001b[1;31m---------------------------------------------------------------------------\u001b[0m",
      "\u001b[1;31mValueError\u001b[0m                                Traceback (most recent call last)",
      "Cell \u001b[1;32mIn[3], line 6\u001b[0m\n\u001b[0;32m      3\u001b[0m         \u001b[38;5;28;01mraise\u001b[39;00m \u001b[38;5;167;01mValueError\u001b[39;00m(\u001b[38;5;124m'\u001b[39m\u001b[38;5;124mZero to the power zero\u001b[39m\u001b[38;5;124m'\u001b[39m)\n\u001b[0;32m      4\u001b[0m     \u001b[38;5;28;01mreturn\u001b[39;00m a\u001b[38;5;241m*\u001b[39m\u001b[38;5;241m*\u001b[39mb\n\u001b[1;32m----> 6\u001b[0m powr(\u001b[38;5;241m0\u001b[39m,\u001b[38;5;241m0\u001b[39m)\n",
      "Cell \u001b[1;32mIn[3], line 3\u001b[0m, in \u001b[0;36mpowr\u001b[1;34m(a, b)\u001b[0m\n\u001b[0;32m      1\u001b[0m \u001b[38;5;28;01mdef\u001b[39;00m \u001b[38;5;21mpowr\u001b[39m(a,b):\n\u001b[0;32m      2\u001b[0m     \u001b[38;5;28;01mif\u001b[39;00m a \u001b[38;5;241m==\u001b[39m b \u001b[38;5;241m==\u001b[39m \u001b[38;5;241m0\u001b[39m:\n\u001b[1;32m----> 3\u001b[0m         \u001b[38;5;28;01mraise\u001b[39;00m \u001b[38;5;167;01mValueError\u001b[39;00m(\u001b[38;5;124m'\u001b[39m\u001b[38;5;124mZero to the power zero\u001b[39m\u001b[38;5;124m'\u001b[39m)\n\u001b[0;32m      4\u001b[0m     \u001b[38;5;28;01mreturn\u001b[39;00m a\u001b[38;5;241m*\u001b[39m\u001b[38;5;241m*\u001b[39mb\n",
      "\u001b[1;31mValueError\u001b[0m: Zero to the power zero"
     ]
    }
   ],
   "source": [
    "def powr(a,b):\n",
    "    if a == b == 0:\n",
    "        raise ValueError('Zero to the power zero')\n",
    "    return a**b\n",
    "\n",
    "powr(0,0)"
   ]
  },
  {
   "cell_type": "code",
   "execution_count": null,
   "id": "480d23ec-78b0-45d4-8506-d8ff900b01ad",
   "metadata": {},
   "outputs": [],
   "source": []
  }
 ],
 "metadata": {
  "kernelspec": {
   "display_name": "Python 3 (ipykernel)",
   "language": "python",
   "name": "python3"
  },
  "language_info": {
   "codemirror_mode": {
    "name": "ipython",
    "version": 3
   },
   "file_extension": ".py",
   "mimetype": "text/x-python",
   "name": "python",
   "nbconvert_exporter": "python",
   "pygments_lexer": "ipython3",
   "version": "3.12.7"
  }
 },
 "nbformat": 4,
 "nbformat_minor": 5
}
